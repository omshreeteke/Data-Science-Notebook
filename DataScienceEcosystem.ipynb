{
 "cells": [
  {
   "cell_type": "markdown",
   "id": "33d53efb-eae0-4f3c-87f0-4ba948d630b8",
   "metadata": {},
   "source": [
    "In this notebook, Data Science Tools and Ecosystem are summarized.\n"
   ]
  },
  {
   "cell_type": "code",
   "execution_count": null,
   "id": "ca1d515e-511b-457f-81ca-de02a082078b",
   "metadata": {},
   "outputs": [],
   "source": []
  },
  {
   "cell_type": "markdown",
   "id": "d7da53ff-8d32-4039-aede-c8a0f839b8e5",
   "metadata": {},
   "source": [
    "Some of the popular languages that Data Scientists use are:\n",
    "\n",
    "1. Python\n",
    "2. R\n",
    "3. SQL\n",
    "4. Julia\n",
    "5. Scala\n"
   ]
  },
  {
   "cell_type": "markdown",
   "id": "75ef6e0b-8207-48e9-90b4-7f1f7a989274",
   "metadata": {},
   "source": [
    "Some of the commonly used libraries used by Data Scientists include:\n",
    "\n",
    "1. **NumPy** - For numerical computations and array manipulations.\n",
    "2. **Pandas** - For data manipulation and analysis.\n",
    "3. **Matplotlib** - For data visualization.\n",
    "4. **Scikit-learn** - For machine learning algorithms.\n",
    "5. **TensorFlow** - For deep learning and neural networks.\n"
   ]
  },
  {
   "cell_type": "markdown",
   "id": "5b69a16f-f1f3-498e-880c-38c1245cc100",
   "metadata": {},
   "source": [
    "| Data Science Tools          |\n",
    "|-----------------------------|\n",
    "| Jupyter Notebook            |\n",
    "| RStudio                     |\n",
    "| Apache Zeppelin             |\n"
   ]
  },
  {
   "cell_type": "markdown",
   "id": "608e3c63-1382-40e4-813b-227f0f764a97",
   "metadata": {},
   "source": [
    "### Below are a few examples of evaluating arithmetic expressions in Python.\n"
   ]
  },
  {
   "cell_type": "code",
   "execution_count": 3,
   "id": "7fd0d9b6-9960-4553-bef0-c2d8aa74afb8",
   "metadata": {},
   "outputs": [
    {
     "data": {
      "text/plain": [
       "17"
      ]
     },
     "execution_count": 3,
     "metadata": {},
     "output_type": "execute_result"
    }
   ],
   "source": [
    "# This is a simple arithmetic expression to multiply then add integers\n",
    "result = (3 * 4) + 5\n",
    "result\n"
   ]
  },
  {
   "cell_type": "code",
   "execution_count": 4,
   "id": "d208f859-c052-4c15-939a-b7f8c9fca31d",
   "metadata": {},
   "outputs": [
    {
     "data": {
      "text/plain": [
       "3.3333333333333335"
      ]
     },
     "execution_count": 4,
     "metadata": {},
     "output_type": "execute_result"
    }
   ],
   "source": [
    "# This will convert 200 minutes to hours by dividing by 60\n",
    "minutes = 200\n",
    "hours = minutes / 60\n",
    "hours\n"
   ]
  },
  {
   "cell_type": "markdown",
   "id": "a198afe8-2756-46ba-8093-94be811bd9eb",
   "metadata": {},
   "source": [
    "**Objectives:**\n",
    "\n",
    "- List popular languages for Data Science.\n",
    "- Explore common libraries used in data science.\n",
    "- Learn about development environment tools for data science.\n",
    "- Evaluate basic arithmetic expressions in Python.\n",
    "- Convert time units (e.g., minutes to hours) in Python.\n"
   ]
  },
  {
   "cell_type": "code",
   "execution_count": null,
   "id": "8f36d9e7-8563-4318-a225-6590a4a42395",
   "metadata": {},
   "outputs": [],
   "source": [
    "## Author\n",
    "\n",
    "Om\n"
   ]
  }
 ],
 "metadata": {
  "kernelspec": {
   "display_name": "Python 3 (ipykernel)",
   "language": "python",
   "name": "python3"
  },
  "language_info": {
   "codemirror_mode": {
    "name": "ipython",
    "version": 3
   },
   "file_extension": ".py",
   "mimetype": "text/x-python",
   "name": "python",
   "nbconvert_exporter": "python",
   "pygments_lexer": "ipython3",
   "version": "3.11.1"
  }
 },
 "nbformat": 4,
 "nbformat_minor": 5
}
